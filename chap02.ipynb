{
  "nbformat": 4,
  "nbformat_minor": 0,
  "metadata": {
    "anaconda-cloud": {},
    "kernelspec": {
      "display_name": "Python 3",
      "language": "python",
      "name": "python3"
    },
    "language_info": {
      "codemirror_mode": {
        "name": "ipython",
        "version": 3
      },
      "file_extension": ".py",
      "mimetype": "text/x-python",
      "name": "python",
      "nbconvert_exporter": "python",
      "pygments_lexer": "ipython3",
      "version": "3.7.8"
    },
    "colab": {
      "name": "chap02.ipynb",
      "provenance": [],
      "collapsed_sections": [
        "Hd3-uk_GlCWJ",
        "6ZJdtwFclCWV",
        "H7xiKV5plCWY",
        "zAPh9meplCWf",
        "B7C9NbEFlCWz"
      ],
      "include_colab_link": true
    }
  },
  "cells": [
    {
      "cell_type": "markdown",
      "metadata": {
        "id": "view-in-github",
        "colab_type": "text"
      },
      "source": [
        "<a href=\"https://colab.research.google.com/github/pearcej/complex/blob/master/chap02.ipynb\" target=\"_parent\"><img src=\"https://colab.research.google.com/assets/colab-badge.svg\" alt=\"Open In Colab\"/></a>"
      ]
    },
    {
      "cell_type": "markdown",
      "metadata": {
        "id": "RWwbhzMWlCVq"
      },
      "source": [
        "# Analysis of Algorithms\n",
        "\n",
        "Code examples from [Think Complexity, 2nd edition](https://thinkcomplex.com).\n",
        "\n",
        "Copyright 2017 Allen Downey, [MIT License](https://opensource.org/licenses/MIT)"
      ]
    },
    {
      "cell_type": "code",
      "metadata": {
        "id": "vqXxskCrlCVr"
      },
      "source": [
        "%matplotlib inline\n",
        "\n",
        "import matplotlib.pyplot as plt\n",
        "import numpy as np\n",
        "import seaborn as sns\n",
        "\n",
        "import os\n",
        "if not os.path.exists('utils.py'):\n",
        "    !wget https://raw.githubusercontent.com/AllenDowney/ThinkComplexity2/master/notebooks/utils.py\n",
        "import string\n",
        "\n",
        "from utils import decorate, savefig"
      ],
      "execution_count": 3,
      "outputs": []
    },
    {
      "cell_type": "markdown",
      "metadata": {
        "id": "jqWoFVzxlCVv"
      },
      "source": [
        "### Empirical order of growth\n",
        "\n",
        "Sometimes we can figure out what order of growth a function belongs to by running it with a range of problem sizes and measuring the run time.\n",
        "\n",
        "To measure runtimes, we'll use `etime`, which uses `os.times` to compute the total time used by a process, including \"user time\" and \"system time\".  User time is time spent running your code; system time is time spent running operating system code on your behalf."
      ]
    },
    {
      "cell_type": "code",
      "metadata": {
        "id": "tcLNGnJ_lCVw"
      },
      "source": [
        "def etime():\n",
        "    \"\"\"Measures user and system time this process has used.\n",
        "\n",
        "    Returns the sum of user and system time.\"\"\"\n",
        "    user, sys, chuser, chsys, real = os.times()\n",
        "    return user+sys"
      ],
      "execution_count": 4,
      "outputs": []
    },
    {
      "cell_type": "markdown",
      "metadata": {
        "id": "OA3rL-fhlCVy"
      },
      "source": [
        "`time_func` takes a function object and a problem size, `n`, runs the function, and returns the elapsed time."
      ]
    },
    {
      "cell_type": "code",
      "metadata": {
        "id": "2YKQI5o8lCVz"
      },
      "source": [
        "def time_func(func, n):\n",
        "    \"\"\"Run a function and return the elapsed time.\n",
        "    \n",
        "    func: function\n",
        "    n: problem size\n",
        "    \n",
        "    returns: user+sys time in seconds\n",
        "    \"\"\"\n",
        "    start = etime()\n",
        "    func(n)\n",
        "    end = etime()\n",
        "    elapsed = end - start\n",
        "    return elapsed"
      ],
      "execution_count": 5,
      "outputs": []
    },
    {
      "cell_type": "markdown",
      "metadata": {
        "id": "OWzhn5ZYlCV1"
      },
      "source": [
        "Here's an example: a function that makes a list with the given length using `append`."
      ]
    },
    {
      "cell_type": "code",
      "metadata": {
        "id": "3otUQGqllCV2",
        "outputId": "ffd27747-ef76-4716-b02e-bd3e4703b39f",
        "colab": {
          "base_uri": "https://localhost:8080/",
          "height": 34
        }
      },
      "source": [
        "def append_list(n):\n",
        "    t = []\n",
        "    for i in range(n):\n",
        "        t.append(i)\n",
        "    return t\n",
        "\n",
        "time_func(append_list, 1000000)"
      ],
      "execution_count": 6,
      "outputs": [
        {
          "output_type": "execute_result",
          "data": {
            "text/plain": [
              "0.1299999999999999"
            ]
          },
          "metadata": {
            "tags": []
          },
          "execution_count": 6
        }
      ]
    },
    {
      "cell_type": "markdown",
      "metadata": {
        "id": "o1NmWlp9lCV4"
      },
      "source": [
        "`run_timing_test` takes a function, runs it with a range of problem sizes, and returns two lists: problem sizes and times."
      ]
    },
    {
      "cell_type": "code",
      "metadata": {
        "id": "XOk7xKDTlCV5"
      },
      "source": [
        "def run_timing_test(func, max_time=1):\n",
        "    \"\"\"Tests the given function with a range of values for n.\n",
        "    \n",
        "    func: function object\n",
        "\n",
        "    returns: list of ns and a list of run times.\n",
        "    \"\"\"\n",
        "    ns = []\n",
        "    ts = []\n",
        "    for i in range(10, 28):\n",
        "        n = 2**i\n",
        "        t = time_func(func, n)\n",
        "        print(n, t)\n",
        "        if t > 0:\n",
        "            ns.append(n)\n",
        "            ts.append(t)\n",
        "        if t > max_time:\n",
        "            break\n",
        "\n",
        "    return ns, ts"
      ],
      "execution_count": 7,
      "outputs": []
    },
    {
      "cell_type": "markdown",
      "metadata": {
        "id": "8LZLpU-alCV7"
      },
      "source": [
        "Here's an example with `append_list`"
      ]
    },
    {
      "cell_type": "code",
      "metadata": {
        "id": "-RhyB0MrlCV8",
        "outputId": "6a8fc8ef-d42d-4d35-c1f2-eca21c7c5ea0",
        "colab": {
          "base_uri": "https://localhost:8080/",
          "height": 272
        }
      },
      "source": [
        "ns, ts = run_timing_test(append_list)"
      ],
      "execution_count": 8,
      "outputs": [
        {
          "output_type": "stream",
          "text": [
            "1024 0.0\n",
            "2048 0.009999999999999787\n",
            "4096 0.0\n",
            "8192 0.0\n",
            "16384 0.0\n",
            "32768 0.0\n",
            "65536 0.010000000000000231\n",
            "131072 0.020000000000000018\n",
            "262144 0.020000000000000018\n",
            "524288 0.06000000000000005\n",
            "1048576 0.10999999999999988\n",
            "2097152 0.23999999999999977\n",
            "4194304 0.4700000000000002\n",
            "8388608 0.9699999999999998\n",
            "16777216 1.92\n"
          ],
          "name": "stdout"
        }
      ]
    },
    {
      "cell_type": "markdown",
      "metadata": {
        "id": "ktwWsHOUlCV-"
      },
      "source": [
        "`fit` takes the lists of ns and ts and fits it with a curve of the form `a * n**exp`, where `exp` is a given exponent and `a` is chosen so that the line goes through a particular point in the sequence, usually the last. "
      ]
    },
    {
      "cell_type": "code",
      "metadata": {
        "id": "4kBPSRR9lCV_"
      },
      "source": [
        "def fit(ns, ts, exp=1.0, index=-1):\n",
        "    \"\"\"Fits a curve with the given exponent.\n",
        "    \n",
        "    ns: sequence of problem sizes\n",
        "    ts: sequence of times\n",
        "    exp: exponent of the fitted curve\n",
        "    index: index of the element the fitted line should go through\n",
        "    \n",
        "    returns: sequence of fitted times\n",
        "\n",
        "    \n",
        "    \"\"\"\n",
        "    # Use the element with the given index as a reference point, \n",
        "    # and scale all other points accordingly.\n",
        "    nref = ns[index]\n",
        "    tref = ts[index]\n",
        "\n",
        "    tfit = []\n",
        "    for n in ns:\n",
        "        ratio = n / nref\n",
        "        t = ratio**exp * tref\n",
        "        tfit.append(t)\n",
        "\n",
        "    return tfit"
      ],
      "execution_count": 9,
      "outputs": []
    },
    {
      "cell_type": "markdown",
      "metadata": {
        "id": "4cskmWsUlCWC"
      },
      "source": [
        "`plot_timing_test` plots the results."
      ]
    },
    {
      "cell_type": "code",
      "metadata": {
        "id": "PHBMiHr6lCWC"
      },
      "source": [
        "def plot_timing_test(ns, ts, label='', color='blue', exp=1.0, scale='log'):\n",
        "    \"\"\"Plots data and a fitted curve.\n",
        "\n",
        "    ns: sequence of n (problem size)\n",
        "    ts: sequence of t (run time)\n",
        "    label: string label for the data curve\n",
        "    color: string color for the data curve\n",
        "    exp: exponent (slope) for the fitted curve\n",
        "    \"\"\"\n",
        "    tfit = fit(ns, ts, exp)\n",
        "    fit_label = 'exp = %d' % exp\n",
        "    plt.plot(ns, tfit, label=fit_label, color='0.7', linestyle='dashed')\n",
        "    plt.plot(ns, ts, 'o-', label=label, color=color, alpha=0.7)\n",
        "    plt.xlabel('Problem size (n)')\n",
        "    plt.ylabel('Runtime (seconds)')\n",
        "    plt.xscale(scale)\n",
        "    plt.yscale(scale)\n",
        "    plt.legend()"
      ],
      "execution_count": 10,
      "outputs": []
    },
    {
      "cell_type": "markdown",
      "metadata": {
        "id": "EALyL449lCWF"
      },
      "source": [
        "Here are the results from `append_list`.  When we plot `ts` versus `ns` on a log-log scale, we should get a straight line.  If the order of growth is linear, the slope of the line should be 1. "
      ]
    },
    {
      "cell_type": "code",
      "metadata": {
        "id": "4TYCoQoclCWF",
        "outputId": "8e57a8d0-8317-495b-8cbb-61489248e9fa",
        "colab": {
          "base_uri": "https://localhost:8080/",
          "height": 283
        }
      },
      "source": [
        "plot_timing_test(ns, ts, 'append_list', exp=1)"
      ],
      "execution_count": 11,
      "outputs": [
        {
          "output_type": "display_data",
          "data": {
            "image/png": "[encoded data removed]",
            "text/plain": [
              "<Figure size 432x288 with 1 Axes>"
            ]
          },
          "metadata": {
            "tags": [],
            "needs_background": "light"
          }
        }
      ]
    },
    {
      "cell_type": "markdown",
      "metadata": {
        "id": "78gQZXb2lCWI"
      },
      "source": [
        "For small values of `n`, the runtime is so short that we're probably not getting an accurate measurement of just the operation we're interested in.  But as `n` increases, runtime seems to converge to a line with slope 1.  \n",
        "\n",
        "That suggests that performing append `n` times is linear, which suggests that a single append is constant time.  "
      ]
    },
    {
      "cell_type": "markdown",
      "metadata": {
        "id": "Hd3-uk_GlCWJ"
      },
      "source": [
        "### list.pop\n",
        "\n",
        "Now let's try that with `pop`, and specifically with `pop(0)`, which pops from the left side of the list."
      ]
    },
    {
      "cell_type": "code",
      "metadata": {
        "id": "QT_Eyql_lCWK",
        "outputId": "5dfdedbd-0f51-4c58-9946-af872cd5485e",
        "colab": {
          "base_uri": "https://localhost:8080/",
          "height": 0
        }
      },
      "source": [
        "def pop_left_list(n):\n",
        "    t= []\n",
        "    for i in range(n):\n",
        "        t.append(i)\n",
        "    for _ in range(n):\n",
        "        t.pop(0)\n",
        "    return t\n",
        "\n",
        "ns, ts = run_timing_test(pop_left_list)\n",
        "plot_timing_test(ns, ts, 'pop_left_list', exp=1)"
      ],
      "execution_count": 12,
      "outputs": [
        {
          "output_type": "stream",
          "text": [
            "1024 0.0\n",
            "2048 0.0\n",
            "4096 0.009999999999999787\n",
            "8192 0.009999999999999787\n",
            "16384 0.020000000000000462\n",
            "32768 0.10999999999999943\n",
            "65536 0.3799999999999999\n",
            "131072 1.5000000000000009\n"
          ],
          "name": "stdout"
        },
        {
          "output_type": "display_data",
          "data": {
            "image/png": "[encoded data removed]",
            "text/plain": [
              "<Figure size 432x288 with 1 Axes>"
            ]
          },
          "metadata": {
            "tags": [],
            "needs_background": "light"
          }
        }
      ]
    },
    {
      "cell_type": "markdown",
      "metadata": {
        "id": "GBvzJ4QylCWN"
      },
      "source": [
        "That doesn't look very good.  The runtimes increase more steeply than the line with slope 1.  Let's try slope 2."
      ]
    },
    {
      "cell_type": "code",
      "metadata": {
        "id": "SAJxnu-blCWO",
        "outputId": "72ee8197-c3d9-40f0-ef39-dc63001fb0ed",
        "colab": {
          "base_uri": "https://localhost:8080/",
          "height": 0
        }
      },
      "source": [
        "plot_timing_test(ns, ts, 'pop_left_list', exp=2)"
      ],
      "execution_count": 13,
      "outputs": [
        {
          "output_type": "display_data",
          "data": {
            "image/png": "[encoded data removed]",
            "text/plain": [
              "<Figure size 432x288 with 1 Axes>"
            ]
          },
          "metadata": {
            "tags": [],
            "needs_background": "light"
          }
        }
      ]
    },
    {
      "cell_type": "markdown",
      "metadata": {
        "id": "WRUBvpZRlCWS"
      },
      "source": [
        "The last few points converge on the line with slope 2, which suggests that `pop(0)` is quadratic."
      ]
    },
    {
      "cell_type": "markdown",
      "metadata": {
        "id": "kF9tzuQvlCWS"
      },
      "source": [
        "**Exercise:**  What happens if you pop from the end of the list?  Write a function called `pop_right_list` that pops the last element instead of the first.  Use `run_timing_test` to characterize its performance.  Then use `plot_timing_test` with a few different values of `exp` to find the slope that best matches the data.  What conclusion can you draw about the order of growth for popping an element from the end of a list?"
      ]
    },
    {
      "cell_type": "code",
      "metadata": {
        "id": "Bwl_5TUIlCWT"
      },
      "source": [
        "# Solution goes here"
      ],
      "execution_count": 14,
      "outputs": []
    },
    {
      "cell_type": "markdown",
      "metadata": {
        "id": "6ZJdtwFclCWV"
      },
      "source": [
        "### Sorting\n",
        "\n",
        "We expect sorting to be `n log n`.  On a log-log scale, that doesn't look like a straight line, so there's no simple test whether it's really `n log n`.  Nevertheless, we can plot results for sorting lists with different lengths, and see what it looks like."
      ]
    },
    {
      "cell_type": "code",
      "metadata": {
        "id": "FfUIjEtllCWV",
        "outputId": "32132635-8185-4fb6-87c4-3610c55ad2f8",
        "colab": {
          "base_uri": "https://localhost:8080/",
          "height": 0
        }
      },
      "source": [
        "def sort_list(n):\n",
        "    t = np.random.random(n)\n",
        "    t.sort()\n",
        "    return t\n",
        "\n",
        "ns, ts = run_timing_test(sort_list)\n",
        "plot_timing_test(ns, ts, 'sort_list', exp=1)"
      ],
      "execution_count": 15,
      "outputs": [
        {
          "output_type": "stream",
          "text": [
            "1024 0.0\n",
            "2048 0.0\n",
            "4096 0.0\n",
            "8192 0.0\n",
            "16384 0.0\n",
            "32768 0.010000000000001563\n",
            "65536 0.0\n",
            "131072 0.019999999999999574\n",
            "262144 0.019999999999999574\n",
            "524288 0.0600000000000005\n",
            "1048576 0.11999999999999922\n",
            "2097152 0.25\n",
            "4194304 0.5099999999999998\n",
            "8388608 1.0700000000000003\n"
          ],
          "name": "stdout"
        },
        {
          "output_type": "display_data",
          "data": {
            "image/png": "[encoded data removed]",
            "text/plain": [
              "<Figure size 432x288 with 1 Axes>"
            ]
          },
          "metadata": {
            "tags": [],
            "needs_background": "light"
          }
        }
      ]
    },
    {
      "cell_type": "markdown",
      "metadata": {
        "id": "wg35pF15lCWX"
      },
      "source": [
        "It sure looks like sorting is linear, so that's surprising.  But remember that `log n` changes much more slowly than `n`.  Over a wide range of values, `n log n` can be hard to distinguish from an algorithm with linear growth.  As `n` gets bigger, we would expect this curve to be steeper than slope 1.  But often, for practical problem sizes, `n log n` is as good as linear."
      ]
    },
    {
      "cell_type": "markdown",
      "metadata": {
        "id": "H7xiKV5plCWY"
      },
      "source": [
        "### Bisection search\n",
        "\n",
        "We expect bisection search to be `log n`, which is so fast it is hard to measure the way we've been doing it.\n",
        "\n",
        "To make it work, I create the sorted list ahead of time and use the parameter `hi` to specify which part of the list to search.  Also, I have to run each search 100,000 times so it takes long enough to measure. "
      ]
    },
    {
      "cell_type": "code",
      "metadata": {
        "id": "swCD-h0AlCWY",
        "outputId": "952500f1-5bf2-406e-cd01-6ba8caf974da",
        "colab": {
          "base_uri": "https://localhost:8080/",
          "height": 0
        }
      },
      "source": [
        "t = np.random.random(16777216)\n",
        "t.sort()\n",
        "\n",
        "from bisect import bisect\n",
        "\n",
        "def search_sorted_list(n):\n",
        "    for i in range(100000):\n",
        "        index = bisect(t, 0.1, hi=n) \n",
        "    return index\n",
        "\n",
        "ns, ts = run_timing_test(search_sorted_list, max_time=0.2)\n",
        "plot_timing_test(ns, ts, 'search_sorted_list', exp=1)"
      ],
      "execution_count": 16,
      "outputs": [
        {
          "output_type": "stream",
          "text": [
            "1024 0.19000000000000128\n",
            "2048 0.21999999999999886\n"
          ],
          "name": "stdout"
        },
        {
          "output_type": "display_data",
          "data": {
            "image/png": "[encoded data removed]",
            "text/plain": [
              "<Figure size 432x288 with 1 Axes>"
            ]
          },
          "metadata": {
            "tags": [],
            "needs_background": "light"
          }
        }
      ]
    },
    {
      "cell_type": "markdown",
      "metadata": {
        "id": "Oa9scagJlCWb"
      },
      "source": [
        "It looks like the runtime increases slowly as `n` increases, but it's definitely not linear.  To see if it's constant time, we can compare it to the line with slope 0."
      ]
    },
    {
      "cell_type": "code",
      "metadata": {
        "id": "A3QKtmC8lCWb",
        "outputId": "3458d744-03e8-40a0-8cd0-578b24a4446a",
        "colab": {
          "base_uri": "https://localhost:8080/",
          "height": 0
        }
      },
      "source": [
        "plot_timing_test(ns, ts, 'search_sorted_list', exp=0)"
      ],
      "execution_count": 17,
      "outputs": [
        {
          "output_type": "display_data",
          "data": {
            "image/png": "[encoded data removed]",
            "text/plain": [
              "<Figure size 432x288 with 1 Axes>"
            ]
          },
          "metadata": {
            "tags": [],
            "needs_background": "light"
          }
        }
      ]
    },
    {
      "cell_type": "markdown",
      "metadata": {
        "id": "D_A6HwDNlCWe"
      },
      "source": [
        "Nope, looks like it's not constant time, either.  We can't really conclude that it's `log n` based on this curve alone, but the results are certainly consistent with that theory."
      ]
    },
    {
      "cell_type": "markdown",
      "metadata": {
        "id": "zAPh9meplCWf"
      },
      "source": [
        "### Dictionary methods\n",
        "\n",
        "**Exercise:** Write methods called `add_dict` and `lookup_dict`, based on `append_list` and `pop_left_list`.  What is the order of growth for adding and looking up elements in a dictionary?"
      ]
    },
    {
      "cell_type": "code",
      "metadata": {
        "id": "oHM08AYnlCWg"
      },
      "source": [
        "# Solution goes here"
      ],
      "execution_count": 18,
      "outputs": []
    },
    {
      "cell_type": "code",
      "metadata": {
        "id": "46OVyk57lCWm"
      },
      "source": [
        "# Solution goes here"
      ],
      "execution_count": 19,
      "outputs": []
    },
    {
      "cell_type": "code",
      "metadata": {
        "id": "NtHZqvOXlCWq"
      },
      "source": [
        "# Solution goes here"
      ],
      "execution_count": 20,
      "outputs": []
    },
    {
      "cell_type": "markdown",
      "metadata": {
        "id": "B7C9NbEFlCWz"
      },
      "source": [
        "### Implementing a hash table\n",
        "\n",
        "The reason Python dictionaries can add and look up elements in constant time is that they are based on hash tables.  In this section, we'll implement a hash table in Python.  Remember that this example is for educational purposes only.  There is no practical reason to write a hash table like this in Python.\n",
        "\n",
        "We'll start with a simple linear map, which is a list of key-value pairs."
      ]
    },
    {
      "cell_type": "code",
      "metadata": {
        "id": "eXD2J9LHlCWz"
      },
      "source": [
        "class LinearMap(object):\n",
        "    \"\"\"A simple implementation of a map using a list of tuples\n",
        "    where each tuple is a key-value pair.\"\"\"\n",
        "\n",
        "    def __init__(self):\n",
        "        self.items = []\n",
        "\n",
        "    def add(self, k, v):\n",
        "        \"\"\"Adds a new item that maps from key (k) to value (v).\n",
        "        Assumes that they keys are unique.\"\"\"\n",
        "        self.items.append((k, v))\n",
        "\n",
        "    def get(self, k):\n",
        "        \"\"\"Looks up the key (k) and returns the corresponding value,\n",
        "        or raises KeyError if the key is not found.\"\"\"\n",
        "        for key, val in self.items:\n",
        "            if key == k:\n",
        "                return val\n",
        "        raise KeyError"
      ],
      "execution_count": 21,
      "outputs": []
    },
    {
      "cell_type": "markdown",
      "metadata": {
        "id": "x7GgQI1PlCW3"
      },
      "source": [
        "First let's make sure it works:"
      ]
    },
    {
      "cell_type": "code",
      "metadata": {
        "scrolled": true,
        "id": "o-pUXAI1lCW4"
      },
      "source": [
        "def test_map(m):\n",
        "    s = string.ascii_lowercase\n",
        "\n",
        "    for k, v in enumerate(s):\n",
        "        m.add(k, v)\n",
        "\n",
        "    for k in range(len(s)):\n",
        "        print(k, m.get(k))"
      ],
      "execution_count": 22,
      "outputs": []
    },
    {
      "cell_type": "code",
      "metadata": {
        "id": "Mg3OLChSlCW6",
        "outputId": "0cd1f381-1ee6-4772-8210-d76bbdd70d32",
        "colab": {
          "base_uri": "https://localhost:8080/",
          "height": 0
        }
      },
      "source": [
        "m = LinearMap()\n",
        "test_map(m)"
      ],
      "execution_count": 23,
      "outputs": [
        {
          "output_type": "stream",
          "text": [
            "0 a\n",
            "1 b\n",
            "2 c\n",
            "3 d\n",
            "4 e\n",
            "5 f\n",
            "6 g\n",
            "7 h\n",
            "8 i\n",
            "9 j\n",
            "10 k\n",
            "11 l\n",
            "12 m\n",
            "13 n\n",
            "14 o\n",
            "15 p\n",
            "16 q\n",
            "17 r\n",
            "18 s\n",
            "19 t\n",
            "20 u\n",
            "21 v\n",
            "22 w\n",
            "23 x\n",
            "24 y\n",
            "25 z\n"
          ],
          "name": "stdout"
        }
      ]
    },
    {
      "cell_type": "markdown",
      "metadata": {
        "id": "BoZgYmeSlCW9"
      },
      "source": [
        "Now let's see how long it takes to add `n` elements."
      ]
    },
    {
      "cell_type": "code",
      "metadata": {
        "id": "HCZcX9oClCW9",
        "outputId": "d3b4a6ee-b4c3-4fac-8655-5fa007d2fc57",
        "colab": {
          "base_uri": "https://localhost:8080/",
          "height": 0
        }
      },
      "source": [
        "def add_linear_map(n):\n",
        "    d = LinearMap()\n",
        "    for i in range(n):\n",
        "        d.add(i, 1)\n",
        "    return d\n",
        "\n",
        "ns, ts = run_timing_test(add_linear_map)\n",
        "plot_timing_test(ns, ts, 'add_linear_map', exp=1)"
      ],
      "execution_count": 24,
      "outputs": [
        {
          "output_type": "stream",
          "text": [
            "1024 0.0\n",
            "2048 0.0\n",
            "4096 0.0\n",
            "8192 0.0\n",
            "16384 0.00999999999999801\n",
            "32768 0.010000000000001563\n",
            "65536 0.030000000000001137\n",
            "131072 0.03999999999999915\n",
            "262144 0.08999999999999986\n",
            "524288 0.17999999999999972\n",
            "1048576 0.33999999999999986\n",
            "2097152 0.6900000000000013\n",
            "4194304 1.3399999999999999\n"
          ],
          "name": "stdout"
        },
        {
          "output_type": "display_data",
          "data": {
            "image/png": "[encoded data removed]",
            "text/plain": [
              "<Figure size 432x288 with 1 Axes>"
            ]
          },
          "metadata": {
            "tags": [],
            "needs_background": "light"
          }
        }
      ]
    },
    {
      "cell_type": "markdown",
      "metadata": {
        "id": "tgP3BUkylCXA"
      },
      "source": [
        "Adding `n` elements is linear, so each add is constant time.  How about lookup?"
      ]
    },
    {
      "cell_type": "code",
      "metadata": {
        "id": "_jefj8dqlCXA",
        "outputId": "69f385d8-5639-4534-d3ce-b11afee93d6c",
        "colab": {
          "base_uri": "https://localhost:8080/",
          "height": 0
        }
      },
      "source": [
        "def lookup_linear_map(n):\n",
        "    d = LinearMap()\n",
        "    for i in range(n):\n",
        "        d.add(i, 1)\n",
        "    total = 0\n",
        "    for i in range(n):\n",
        "        total += d.get(i)\n",
        "    return d\n",
        "\n",
        "ns, ts = run_timing_test(lookup_linear_map)\n",
        "plot_timing_test(ns, ts, 'lookup_linear_map', exp=2)"
      ],
      "execution_count": 25,
      "outputs": [
        {
          "output_type": "stream",
          "text": [
            "1024 0.030000000000001137\n",
            "2048 0.0799999999999983\n",
            "4096 0.3200000000000003\n",
            "8192 1.360000000000003\n"
          ],
          "name": "stdout"
        },
        {
          "output_type": "display_data",
          "data": {
            "image/png": "[encoded data removed]",
            "text/plain": [
              "<Figure size 432x288 with 1 Axes>"
            ]
          },
          "metadata": {
            "tags": [],
            "needs_background": "light"
          }
        }
      ]
    },
    {
      "cell_type": "markdown",
      "metadata": {
        "id": "13BLkzD8lCXD"
      },
      "source": [
        "Looking up `n` elements is $O(n^2)$ (notice that `exp=2`).  So each lookup is linear.\n",
        "\n",
        "Let's see what happens if we break the list of key-value pairs into 100 lists."
      ]
    },
    {
      "cell_type": "code",
      "metadata": {
        "id": "nB1uD8tdlCXD"
      },
      "source": [
        "class BetterMap(object):\n",
        "    \"\"\"A faster implementation of a map using a list of LinearMaps\n",
        "    and the built-in function hash() to determine which LinearMap\n",
        "    to put each key into.\"\"\"\n",
        "\n",
        "    def __init__(self, n=100):\n",
        "        \"\"\"Appends (n) LinearMaps onto (self).\"\"\"\n",
        "        self.maps = []\n",
        "        for i in range(n):\n",
        "            self.maps.append(LinearMap())\n",
        "\n",
        "    def find_map(self, k):\n",
        "        \"\"\"Finds the right LinearMap for key (k).\"\"\"\n",
        "        index = hash(k) % len(self.maps)\n",
        "        return self.maps[index]\n",
        "\n",
        "    def add(self, k, v):\n",
        "        \"\"\"Adds a new item to the appropriate LinearMap for key (k).\"\"\"\n",
        "        m = self.find_map(k)\n",
        "        m.add(k, v)\n",
        "\n",
        "    def get(self, k):\n",
        "        \"\"\"Finds the right LinearMap for key (k) and looks up (k) in it.\"\"\"\n",
        "        m = self.find_map(k)\n",
        "        return m.get(k)\n"
      ],
      "execution_count": 26,
      "outputs": []
    },
    {
      "cell_type": "code",
      "metadata": {
        "id": "N3_wfmCklCXK",
        "outputId": "f26ea7b1-019d-4e2e-bbd8-32966abbb702",
        "colab": {
          "base_uri": "https://localhost:8080/",
          "height": 0
        }
      },
      "source": [
        "m = BetterMap()\n",
        "test_map(m)"
      ],
      "execution_count": 27,
      "outputs": [
        {
          "output_type": "stream",
          "text": [
            "0 a\n",
            "1 b\n",
            "2 c\n",
            "3 d\n",
            "4 e\n",
            "5 f\n",
            "6 g\n",
            "7 h\n",
            "8 i\n",
            "9 j\n",
            "10 k\n",
            "11 l\n",
            "12 m\n",
            "13 n\n",
            "14 o\n",
            "15 p\n",
            "16 q\n",
            "17 r\n",
            "18 s\n",
            "19 t\n",
            "20 u\n",
            "21 v\n",
            "22 w\n",
            "23 x\n",
            "24 y\n",
            "25 z\n"
          ],
          "name": "stdout"
        }
      ]
    },
    {
      "cell_type": "markdown",
      "metadata": {
        "id": "ucJaU4cHlCXL"
      },
      "source": [
        "The run time is better (we get to a larger value of `n` before we run out of time). "
      ]
    },
    {
      "cell_type": "code",
      "metadata": {
        "id": "yRRSzgm4lCXM",
        "outputId": "9ad85aac-1239-429e-8cfd-ef6f84b52b93",
        "colab": {
          "base_uri": "https://localhost:8080/",
          "height": 0
        }
      },
      "source": [
        "def lookup_better_map(n):\n",
        "    d = BetterMap()\n",
        "    for i in range(n):\n",
        "        d.add(i, 1)\n",
        "    total = 0\n",
        "    for i in range(n):\n",
        "        total += d.get(i)\n",
        "    return d\n",
        "\n",
        "ns, ts = run_timing_test(lookup_better_map)\n",
        "plot_timing_test(ns, ts, 'lookup_better_map', exp=1)"
      ],
      "execution_count": 28,
      "outputs": [
        {
          "output_type": "stream",
          "text": [
            "1024 0.0\n",
            "2048 0.010000000000001563\n",
            "4096 0.00999999999999801\n",
            "8192 0.030000000000001137\n",
            "16384 0.10000000000000142\n",
            "32768 0.41000000000000014\n",
            "65536 1.5399999999999991\n"
          ],
          "name": "stdout"
        },
        {
          "output_type": "display_data",
          "data": {
            "image/png": "[encoded data removed]",
            "text/plain": [
              "<Figure size 432x288 with 1 Axes>"
            ]
          },
          "metadata": {
            "tags": [],
            "needs_background": "light"
          }
        }
      ]
    },
    {
      "cell_type": "markdown",
      "metadata": {
        "id": "v9LmmBjAlCXO"
      },
      "source": [
        "The order of growth is hard to characterize.  It looks steeper than the line with slope 1.  Let's try slope 2."
      ]
    },
    {
      "cell_type": "code",
      "metadata": {
        "id": "YLAGKZQnlCXO",
        "outputId": "7b003ab6-7dd6-4556-8831-af03bc108701",
        "colab": {
          "base_uri": "https://localhost:8080/",
          "height": 0
        }
      },
      "source": [
        "plot_timing_test(ns, ts, 'lookup_better_map', exp=2)"
      ],
      "execution_count": 29,
      "outputs": [
        {
          "output_type": "display_data",
          "data": {
            "image/png": "[encoded data removed]",
            "text/plain": [
              "<Figure size 432x288 with 1 Axes>"
            ]
          },
          "metadata": {
            "tags": [],
            "needs_background": "light"
          }
        }
      ]
    },
    {
      "cell_type": "markdown",
      "metadata": {
        "id": "tWva4m_glCXQ"
      },
      "source": [
        "It might be converging to the line with slope 2, but it's hard to say anything conclusive without running larger problem sizes."
      ]
    },
    {
      "cell_type": "markdown",
      "metadata": {
        "id": "yKi9V0WGlCXQ"
      },
      "source": [
        "**Exercise:** Go back and run `run_timing_test` with a larger value of `max_time` and see if the run time converges to the line with slope 2.  Just be careful not to make `max_time` to big."
      ]
    },
    {
      "cell_type": "markdown",
      "metadata": {
        "id": "rAL4LCOClCXQ"
      },
      "source": [
        "Now we're ready for a complete implementation of a hash map."
      ]
    },
    {
      "cell_type": "code",
      "metadata": {
        "id": "r8_0ES7ZlCXQ"
      },
      "source": [
        "class HashMap(object):\n",
        "    \"\"\"An implementation of a hashtable using a BetterMap\n",
        "    that grows so that the number of items never exceeds the number\n",
        "    of LinearMaps.\n",
        "\n",
        "    The amortized cost of add should be O(1) provided that the\n",
        "    implementation of sum in resize is linear.\"\"\"\n",
        "\n",
        "    def __init__(self):\n",
        "        \"\"\"Starts with 2 LinearMaps and 0 items.\"\"\"\n",
        "        self.maps = BetterMap(2)\n",
        "        self.num = 0\n",
        "\n",
        "    def get(self, k):\n",
        "        \"\"\"Looks up the key (k) and returns the corresponding value,\n",
        "        or raises KeyError if the key is not found.\"\"\"\n",
        "        return self.maps.get(k)\n",
        "\n",
        "    def add(self, k, v):\n",
        "        \"\"\"Resize the map if necessary and adds the new item.\"\"\"\n",
        "        if self.num == len(self.maps.maps):\n",
        "            self.resize()\n",
        "\n",
        "        self.maps.add(k, v)\n",
        "        self.num += 1\n",
        "\n",
        "    def resize(self):\n",
        "        \"\"\"Makes a new map, twice as big, and rehashes the items.\"\"\"\n",
        "        new_map = BetterMap(self.num * 2)\n",
        "\n",
        "        for m in self.maps.maps:\n",
        "            for k, v in m.items:\n",
        "                new_map.add(k, v)\n",
        "\n",
        "        self.maps = new_map"
      ],
      "execution_count": 30,
      "outputs": []
    },
    {
      "cell_type": "code",
      "metadata": {
        "id": "xtMFjl4IlCXS",
        "outputId": "701188e8-c140-4d3a-b2ec-2a1ec53f0d3d",
        "colab": {
          "base_uri": "https://localhost:8080/",
          "height": 0
        }
      },
      "source": [
        "m = HashMap()\n",
        "test_map(m)"
      ],
      "execution_count": 31,
      "outputs": [
        {
          "output_type": "stream",
          "text": [
            "0 a\n",
            "1 b\n",
            "2 c\n",
            "3 d\n",
            "4 e\n",
            "5 f\n",
            "6 g\n",
            "7 h\n",
            "8 i\n",
            "9 j\n",
            "10 k\n",
            "11 l\n",
            "12 m\n",
            "13 n\n",
            "14 o\n",
            "15 p\n",
            "16 q\n",
            "17 r\n",
            "18 s\n",
            "19 t\n",
            "20 u\n",
            "21 v\n",
            "22 w\n",
            "23 x\n",
            "24 y\n",
            "25 z\n"
          ],
          "name": "stdout"
        }
      ]
    },
    {
      "cell_type": "markdown",
      "metadata": {
        "id": "vWr8nw4xlCXV"
      },
      "source": [
        "**Exercise:** Write a function called `lookup_hash_map`, based on `lookup_better_map`, and characterize its run time.\n",
        "\n",
        "If things go according to plan, the results should converge to a line with slope 1.  Which means that `n` lookups is linear, which means that each lookup is constant time.  Which is pretty much magic."
      ]
    },
    {
      "cell_type": "code",
      "metadata": {
        "id": "WC_7p3FtlCXV"
      },
      "source": [
        "# Solution goes here"
      ],
      "execution_count": 32,
      "outputs": []
    },
    {
      "cell_type": "code",
      "metadata": {
        "id": "7hIBJVChlCXb"
      },
      "source": [
        ""
      ],
      "execution_count": 32,
      "outputs": []
    }
  ]
}